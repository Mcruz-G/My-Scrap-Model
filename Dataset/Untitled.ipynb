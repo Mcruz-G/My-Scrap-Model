{
 "cells": [
  {
   "cell_type": "code",
   "execution_count": 1,
   "metadata": {},
   "outputs": [],
   "source": [
    "import os\n",
    "import pandas as pd"
   ]
  },
  {
   "cell_type": "code",
   "execution_count": 2,
   "metadata": {},
   "outputs": [
    {
     "data": {
      "text/plain": [
       "['cizalla', 'mixto', 'rebaba', 'solido']"
      ]
     },
     "execution_count": 2,
     "metadata": {},
     "output_type": "execute_result"
    }
   ],
   "source": [
    "# hardcoded\n",
    "data_folders = ['cizalla','mixto','rebaba','solido']\n",
    "data_folders"
   ]
  },
  {
   "cell_type": "code",
   "execution_count": 3,
   "metadata": {},
   "outputs": [
    {
     "name": "stdout",
     "output_type": "stream",
     "text": [
      "BASCULA PESAJE_Camera1_BASCULA PESAJE_20181106131125_193716265.jpg\n",
      "BASCULA PESAJE_Camera1_BASCULA PESAJE_20181010110812_98801049.jpg\n",
      "BASCULA PESAJE_Camera1_BASCULA PESAJE_20180818112900_1161248.jpg\n",
      "BASCULA PESAJE_Camera1_BASCULA PESAJE_20180910093613_153964356.jpg\n"
     ]
    },
    {
     "data": {
      "text/plain": [
       "[565, 406, 534, 497]"
      ]
     },
     "execution_count": 3,
     "metadata": {},
     "output_type": "execute_result"
    }
   ],
   "source": [
    "\n",
    "# array of arrays, containing the list files, grouped by folder\n",
    "filenames = [os.listdir(f) for f in data_folders]\n",
    "[print(f[1]) for f in filenames]\n",
    "[len(f) for f in filenames]"
   ]
  },
  {
   "cell_type": "code",
   "execution_count": 4,
   "metadata": {},
   "outputs": [],
   "source": [
    "files_dict = dict(zip(data_folders, filenames))"
   ]
  },
  {
   "cell_type": "code",
   "execution_count": 5,
   "metadata": {},
   "outputs": [],
   "source": [
    "base_gcs_path = 'gs://chatarr-vcm/'"
   ]
  },
  {
   "cell_type": "code",
   "execution_count": 6,
   "metadata": {},
   "outputs": [],
   "source": [
    "\n",
    "# What we want:\n",
    "# gs://cloudml-demo-vcm/chairs_table_bike/chair_black/chair_black157.jpg, 'chair_black' \n",
    "# base_gcs_path + dict_key + '/' + filename\n",
    "\n",
    "data_array = []\n",
    "\n",
    "for (dict_key, files_list) in files_dict.items():\n",
    "    for filename in files_list:\n",
    "#         print(base_gcs_path + dict_key + '/' + filename)\n",
    "        if '.jpg' not in filename: \n",
    "            continue # don't include non-photos\n",
    "\n",
    "        label = dict_key\n",
    "#         label = 'chair' if 'chair' in dict_key else dict_key # for grouping all chairs as one label\n",
    "        \n",
    "        data_array.append((base_gcs_path + dict_key + '/' + filename , label))"
   ]
  },
  {
   "cell_type": "code",
   "execution_count": 7,
   "metadata": {},
   "outputs": [],
   "source": [
    "dataframe = pd.DataFrame(data_array)"
   ]
  },
  {
   "cell_type": "code",
   "execution_count": 8,
   "metadata": {},
   "outputs": [],
   "source": [
    "dataframe.to_csv('all_data.csv', index=False, header=False)"
   ]
  },
  {
   "cell_type": "code",
   "execution_count": 9,
   "metadata": {
    "scrolled": true
   },
   "outputs": [
    {
     "data": {
      "text/html": [
       "<div>\n",
       "<style scoped>\n",
       "    .dataframe tbody tr th:only-of-type {\n",
       "        vertical-align: middle;\n",
       "    }\n",
       "\n",
       "    .dataframe tbody tr th {\n",
       "        vertical-align: top;\n",
       "    }\n",
       "\n",
       "    .dataframe thead th {\n",
       "        text-align: right;\n",
       "    }\n",
       "</style>\n",
       "<table border=\"1\" class=\"dataframe\">\n",
       "  <thead>\n",
       "    <tr style=\"text-align: right;\">\n",
       "      <th></th>\n",
       "      <th>0</th>\n",
       "      <th>1</th>\n",
       "    </tr>\n",
       "  </thead>\n",
       "  <tbody>\n",
       "    <tr>\n",
       "      <th>0</th>\n",
       "      <td>gs://chatarr-vcm/cizalla/BASCULA PESAJE_Camera...</td>\n",
       "      <td>cizalla</td>\n",
       "    </tr>\n",
       "    <tr>\n",
       "      <th>1</th>\n",
       "      <td>gs://chatarr-vcm/cizalla/BASCULA PESAJE_Camera...</td>\n",
       "      <td>cizalla</td>\n",
       "    </tr>\n",
       "    <tr>\n",
       "      <th>2</th>\n",
       "      <td>gs://chatarr-vcm/cizalla/BASCULA PESAJE_Camera...</td>\n",
       "      <td>cizalla</td>\n",
       "    </tr>\n",
       "    <tr>\n",
       "      <th>3</th>\n",
       "      <td>gs://chatarr-vcm/cizalla/BASCULA PESAJE_Camera...</td>\n",
       "      <td>cizalla</td>\n",
       "    </tr>\n",
       "    <tr>\n",
       "      <th>4</th>\n",
       "      <td>gs://chatarr-vcm/cizalla/BASCULA PESAJE_Camera...</td>\n",
       "      <td>cizalla</td>\n",
       "    </tr>\n",
       "  </tbody>\n",
       "</table>\n",
       "</div>"
      ],
      "text/plain": [
       "                                                   0        1\n",
       "0  gs://chatarr-vcm/cizalla/BASCULA PESAJE_Camera...  cizalla\n",
       "1  gs://chatarr-vcm/cizalla/BASCULA PESAJE_Camera...  cizalla\n",
       "2  gs://chatarr-vcm/cizalla/BASCULA PESAJE_Camera...  cizalla\n",
       "3  gs://chatarr-vcm/cizalla/BASCULA PESAJE_Camera...  cizalla\n",
       "4  gs://chatarr-vcm/cizalla/BASCULA PESAJE_Camera...  cizalla"
      ]
     },
     "execution_count": 9,
     "metadata": {},
     "output_type": "execute_result"
    }
   ],
   "source": [
    "dataframe.head()"
   ]
  }
 ],
 "metadata": {
  "kernelspec": {
   "display_name": "Python 3",
   "language": "python",
   "name": "python3"
  },
  "language_info": {
   "codemirror_mode": {
    "name": "ipython",
    "version": 3
   },
   "file_extension": ".py",
   "mimetype": "text/x-python",
   "name": "python",
   "nbconvert_exporter": "python",
   "pygments_lexer": "ipython3",
   "version": "3.6.5"
  }
 },
 "nbformat": 4,
 "nbformat_minor": 2
}
